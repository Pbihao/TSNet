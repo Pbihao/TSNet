{
 "cells": [
  {
   "cell_type": "code",
   "execution_count": 2,
   "id": "de200dea",
   "metadata": {},
   "outputs": [],
   "source": [
    "import torch\n",
    "import numpy as np\n",
    "import cv2\n",
    "import os\n",
    "from PIL import Image\n",
    "def load(path):\n",
    "    images = []\n",
    "    for i in range(5):\n",
    "        img = np.array(Image.open(os.path.join(path, str(i) + '.png')))\n",
    "        images.append(img)\n",
    "    return images\n",
    "video_query_img = load(os.path.join(os.getcwd(), 'video_query_img'))\n",
    "video_query_mask = load(os.path.join(os.getcwd(), 'video_query_mask'))\n",
    "new_support_img = load(os.path.join(os.getcwd(), 'new_support_img'))\n",
    "new_support_mask = load(os.path.join(os.getcwd(), 'new_support_mask'))"
   ]
  },
  {
   "cell_type": "code",
   "execution_count": 3,
   "id": "3ad6f91e",
   "metadata": {},
   "outputs": [
    {
     "data": {
      "text/plain": [
       "32"
      ]
     },
     "execution_count": 3,
     "metadata": {},
     "output_type": "execute_result"
    }
   ],
   "source": [
    "cv2.imshow(\"sdfsafd\", video_query_img[0])\n",
    "cv2.waitKey()\n"
   ]
  },
  {
   "cell_type": "code",
   "execution_count": null,
   "id": "0bd121f0",
   "metadata": {},
   "outputs": [],
   "source": []
  }
 ],
 "metadata": {
  "kernelspec": {
   "display_name": "Python 3",
   "language": "python",
   "name": "python3"
  },
  "language_info": {
   "codemirror_mode": {
    "name": "ipython",
    "version": 3
   },
   "file_extension": ".py",
   "mimetype": "text/x-python",
   "name": "python",
   "nbconvert_exporter": "python",
   "pygments_lexer": "ipython3",
   "version": "3.6.13"
  }
 },
 "nbformat": 4,
 "nbformat_minor": 5
}
